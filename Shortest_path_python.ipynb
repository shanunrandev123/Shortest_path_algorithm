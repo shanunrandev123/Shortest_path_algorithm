{
 "cells": [
  {
   "cell_type": "code",
   "execution_count": null,
   "id": "68a31c9c",
   "metadata": {},
   "outputs": [],
   "source": [
    "import csv\n",
    "import time\n",
    "import random\n",
    "import numpy as np\n",
    "import pandas as pd\n",
    "import networkx as nx\n",
    "import matplotlib.pyplot as plt\n",
    "from collections import defaultdict"
   ]
  },
  {
   "cell_type": "markdown",
   "id": "eee99c44",
   "metadata": {},
   "source": [
    "## Graph generation with 1000 and 10000 nodes. \n",
    "### The graph depth for the 1000 node graph is taken between 0.005 and 0.1, and that for the 10,000 node graph is between 0.0005 and 0.01. "
   ]
  },
  {
   "cell_type": "code",
   "execution_count": null,
   "id": "aab0e384",
   "metadata": {
    "scrolled": true
   },
   "outputs": [],
   "source": [
    "num_nodes = 10000    # Set the number of nodes \n",
    "G = nx.DiGraph()     # Creating a directed graph\n",
    "\n",
    "G.add_nodes_from(range(1, num_nodes + 1))\n",
    "\n",
    "# Adding random directed edges with random weights\n",
    "count = 0\n",
    "for i in range(num_nodes):\n",
    "    for j in range(num_nodes):\n",
    "        if i != j and random.random() < 0.01:     # depth\n",
    "            weight = random.randint(1, 10)\n",
    "            G.add_edge(i + 1, j + 1, weight = weight)\n",
    "            count += 1\n",
    "\n",
    "# Ensuring weak connectivity if not already so  \n",
    "extra_edges = 0\n",
    "while not nx.is_weakly_connected(G):\n",
    "    # Adding edges to connect components\n",
    "    node1 = random.randint(1, num_nodes)\n",
    "    node2 = random.randint(1, num_nodes)\n",
    "    weight = random.randint(1, 10)\n",
    "    G.add_edge(node1, node2, weight = weight)\n",
    "    extra_edges += 1\n",
    "\n",
    "print(\"Graph is now weakly connected.\")\n",
    "print('Extra edges added:', extra_edges)\n",
    "print('Number of connections:', count + extra_edges)\n",
    "print('Number of connections:', count)"
   ]
  },
  {
   "cell_type": "markdown",
   "id": "d4be5a16",
   "metadata": {},
   "source": [
    "### Visualize a subgraph  "
   ]
  },
  {
   "cell_type": "code",
   "execution_count": null,
   "id": "10f18fdc",
   "metadata": {},
   "outputs": [],
   "source": [
    "subgraph_nodes = random.sample(G.nodes(), 100)  # Set the no. of random nodes for visualization\n",
    "subgraph = G.subgraph(subgraph_nodes)\n",
    "\n",
    "pos = nx.spring_layout(subgraph, seed = 42)  \n",
    "\n",
    "plt.figure(figsize = (12, 10))\n",
    "nx.draw(subgraph, pos,\n",
    "        with_labels = True,\n",
    "        font_weight = 'bold',\n",
    "        node_size = 300,\n",
    "        node_color = 'skyblue',\n",
    "        font_size = 8,\n",
    "        edge_color = 'gray',\n",
    "        linewidths = 0.5)\n",
    "\n",
    "plt.show()"
   ]
  },
  {
   "cell_type": "markdown",
   "id": "00b249f8",
   "metadata": {},
   "source": [
    "### CSV export  "
   ]
  },
  {
   "cell_type": "code",
   "execution_count": null,
   "id": "9ad68660",
   "metadata": {
    "scrolled": true
   },
   "outputs": [],
   "source": [
    "# Creating csv file for the graph\n",
    "\n",
    "csv_file_path = \"10knodes_1e-2.csv\"    # Change it for every graph configuration\n",
    "\n",
    "with open(csv_file_path, 'w', newline = '') as csvfile:\n",
    "    csv_writer = csv.writer(csvfile)\n",
    "    csv_writer.writerow(['Source', 'Target', 'Weight'])\n",
    "    for edge in G.edges(data = True):\n",
    "        csv_writer.writerow([edge[0], edge[1], edge[2]['weight']])\n",
    "print(f\"CSV file saved at: {csv_file_path}\")"
   ]
  },
  {
   "cell_type": "code",
   "execution_count": null,
   "id": "a09eafb2",
   "metadata": {},
   "outputs": [],
   "source": [
    "# Check for orphan nodes!\n",
    "orphans = 0\n",
    "for node in G.nodes():\n",
    "    incoming_edges = G.in_degree(node)\n",
    "    outgoing_edges = G.out_degree(node)\n",
    "    if incoming_edges == 0 and outgoing_edges == 0:\n",
    "        orphans += 1\n",
    "print('Number of orphan nodes:', orphans)"
   ]
  },
  {
   "cell_type": "code",
   "execution_count": null,
   "id": "247b29bf",
   "metadata": {},
   "outputs": [],
   "source": [
    "# Read the graph csv \n",
    "df = pd.read_csv(csv_file_path)"
   ]
  },
  {
   "cell_type": "code",
   "execution_count": null,
   "id": "9442251c",
   "metadata": {},
   "outputs": [],
   "source": [
    "# Convert node labels to strings\n",
    "df['Source'] = df['Source'].astype(str)\n",
    "df['Target'] = df['Target'].astype(str)"
   ]
  },
  {
   "cell_type": "code",
   "execution_count": null,
   "id": "7dcdbd5e",
   "metadata": {
    "scrolled": true
   },
   "outputs": [],
   "source": [
    "df.head()"
   ]
  },
  {
   "cell_type": "markdown",
   "id": "3c9ced39",
   "metadata": {},
   "source": [
    "## Dijkstra's algorithm implementation from scratch\n",
    "### For average runtime across `100` traversals with `random` input in each traversal"
   ]
  },
  {
   "cell_type": "code",
   "execution_count": null,
   "id": "728d1246",
   "metadata": {
    "scrolled": true
   },
   "outputs": [],
   "source": [
    "# Creating a class for graph structure\n",
    "\n",
    "class Graph:\n",
    "    def __init__(self):\n",
    "        self.nodes = set()\n",
    "        self.edges = defaultdict(list)\n",
    "        self.distances = {}\n",
    "\n",
    "    def addNode(self, value):\n",
    "        self.nodes.add(value)\n",
    "\n",
    "    def addEdge(self, fromNode, toNode, distance):\n",
    "        self.edges[fromNode].append(toNode)\n",
    "        self.distances[(fromNode, toNode)] = distance\n",
    " \n",
    "     \n",
    "# Main algorithm\n",
    "\n",
    "def dijkstra(graph, initial):\n",
    "    visited = defaultdict(lambda: float('inf'))\n",
    "    path = defaultdict(list)\n",
    "    nodes = set(graph.nodes)\n",
    "\n",
    "    visited[initial] = 0\n",
    "\n",
    "    while nodes:\n",
    "        minNode = min(nodes, key=lambda node: visited[node])\n",
    "        nodes.remove(minNode)\n",
    "        currentWeight = visited[minNode]\n",
    "\n",
    "        for edge in graph.edges[minNode]:\n",
    "            if (minNode, edge) not in graph.distances:\n",
    "                continue\n",
    "\n",
    "            weight = currentWeight + graph.distances[(minNode, edge)]\n",
    "            if weight < visited[edge]:\n",
    "                visited[edge] = weight\n",
    "                path[edge] = path[minNode] + [minNode]\n",
    "\n",
    "    return visited, path\n",
    "\n",
    "# Run the algorithm for specific configuration\n",
    "\n",
    "def main():\n",
    "    graph = Graph()\n",
    "\n",
    "    unique_nodes = set(df['Source'].astype(str).unique()) | set(df['Target'].astype(str).unique())\n",
    "\n",
    "    for node in unique_nodes:\n",
    "        graph.addNode(node)\n",
    "\n",
    "    for index, row in df.iterrows():\n",
    "        graph.addEdge(row['Source'], row['Target'], row['Weight'])\n",
    "\n",
    "    total_time = 0\n",
    "\n",
    "    for _ in range(100):\n",
    "        start_nodes = random.sample(unique_nodes, 1)[0]\n",
    "        end_nodes = random.sample(unique_nodes, 1)[0]\n",
    "\n",
    "        start = time.time()\n",
    "        visited, path = dijkstra(graph, start_nodes)\n",
    "        if end_nodes in visited:\n",
    "            optimal_path = path[end_nodes] + [end_nodes]\n",
    "            optimal_distance = visited[end_nodes]\n",
    "            print(f\"Shortest Path from {start_nodes} to {end_nodes}: {optimal_path}\")\n",
    "            print(f\"Optimal Distance: {optimal_distance}\")\n",
    "        else:\n",
    "            print(f\"No path found from {start_nodes} to {end_nodes}\")\n",
    "        end = time.time()\n",
    "        elapsed_time = round((end - start), 4)\n",
    "        print('Time elapsed:', elapsed_time)\n",
    "        total_time += elapsed_time\n",
    "\n",
    "    average_time = total_time / 100\n",
    "    print(\"\")\n",
    "    print(f'AVERAGE TIME AFTER 100 TRAVERSALS: {round(average_time, 4)}s/ traversal')\n",
    "\n",
    "if __name__ == \"__main__\":\n",
    "    main()"
   ]
  },
  {
   "cell_type": "markdown",
   "id": "7290a607",
   "metadata": {},
   "source": [
    "## Implementation using `shortest_path()` method `from networkx`\n",
    "### For average runtime across `100` traversals with `random` input in each traversal"
   ]
  },
  {
   "cell_type": "code",
   "execution_count": null,
   "id": "73b15544",
   "metadata": {
    "scrolled": true
   },
   "outputs": [],
   "source": [
    "def main():\n",
    "    total_time = 0\n",
    "\n",
    "    for _ in range(100):\n",
    "        start_nodes, end_nodes = random.sample(G.nodes, 2)\n",
    "\n",
    "        start = time.time()\n",
    "        try:\n",
    "            optimal_path = nx.shortest_path(G, source=start_nodes, target=end_nodes, weight='Weight') # Default method is Dijkstra's\n",
    "            optimal_distance = nx.shortest_path_length(G, source=start_nodes, target=end_nodes, weight='Weight')\n",
    "            print(f\"Shortest Path from {start_nodes} to {end_nodes}: {optimal_path}\")\n",
    "            print(f\"Optimal Distance: {optimal_distance}\")\n",
    "        except nx.NetworkXNoPath:\n",
    "            print(f\"No path found from {start_nodes} to {end_nodes}\")\n",
    "        end = time.time()\n",
    "        elapsed_time = round((end - start), 4)\n",
    "        print('Time elapsed:', elapsed_time)\n",
    "        total_time += elapsed_time\n",
    "\n",
    "    average_time = total_time / 100\n",
    "    print(\"\")\n",
    "    print(f'AVERAGE TIME AFTER 100 TRAVERSALS: {round(average_time, 4)}s/ traversal')\n",
    "\n",
    "if __name__ == \"__main__\":\n",
    "    main()"
   ]
  }
 ],
 "metadata": {
  "kernelspec": {
   "display_name": "Python 3",
   "language": "python",
   "name": "python3"
  },
  "language_info": {
   "codemirror_mode": {
    "name": "ipython",
    "version": 3
   },
   "file_extension": ".py",
   "mimetype": "text/x-python",
   "name": "python",
   "nbconvert_exporter": "python",
   "pygments_lexer": "ipython3",
   "version": "3.8.8"
  }
 },
 "nbformat": 4,
 "nbformat_minor": 5
}
