{
 "cells": [
  {
   "cell_type": "code",
   "execution_count": null,
   "id": "12df54c6",
   "metadata": {},
   "outputs": [],
   "source": [
    "import random\n",
    "import time\n",
    "from neo4j import GraphDatabase"
   ]
  },
  {
   "cell_type": "markdown",
   "id": "ea7d1a18",
   "metadata": {},
   "source": [
    "## Establish Neo4j-Python connection and import the csv \n",
    "### Change the file path in the file_path variable to load a different csv"
   ]
  },
  {
   "cell_type": "code",
   "execution_count": null,
   "id": "db90fc44",
   "metadata": {},
   "outputs": [],
   "source": [
    "# Neo4j credentials and connection URI\n",
    "uri = \"neo4j://localhost:7687\"  # Replace with your URI\n",
    "username = \"neo4j\"  # Replace with your username\n",
    "password = \"12345678\"  # Replace with your password\n",
    "\n",
    "# Initialize the Neo4j driver\n",
    "driver = GraphDatabase.driver(uri, auth = (username, password))\n",
    "file_path = 'file:///1000nodes_2.5e-2.csv'   # change csv here \n",
    "\n",
    "\n",
    "# Function to import csv using cypher query\n",
    "def import_csv(tx, file_path):\n",
    "    try:     \n",
    "        query = \"\"\"\n",
    "        LOAD CSV WITH HEADERS FROM $file_path AS row              \n",
    "        MERGE (Source:Node {name: row.Source})\n",
    "        MERGE (Target:Node {name: row.Target})\n",
    "        MERGE (Source)-[:CONNECTED {weight: toInteger(row.Weight)}]->(Target);\n",
    "        \"\"\"\n",
    "\n",
    "        tx.run(query, file_path=file_path)\n",
    "        print(\"CSV data import query executed.\")\n",
    "    except Exception as e:\n",
    "        print(f\"Error during CSV import: {e}\")"
   ]
  },
  {
   "cell_type": "markdown",
   "id": "49d21250",
   "metadata": {},
   "source": [
    "### Implementation of Dijkstra's algorithm using APOC library in Neo4j"
   ]
  },
  {
   "cell_type": "code",
   "execution_count": null,
   "id": "a29bc3fc",
   "metadata": {
    "scrolled": true
   },
   "outputs": [],
   "source": [
    "# Main function for implementation of Dijkstra's algorithm using APOC library in Neo4j\n",
    "\n",
    "def find_shortest_path(tx, start_node, end_node):\n",
    "    try:\n",
    "        start_time = time.time()  # Start timing\n",
    "\n",
    "        query = \"\"\"\n",
    "        MATCH (start:Node {name: $start_node}), (end:Node {name: $end_node})\n",
    "        CALL apoc.algo.dijkstra(start, end, 'CONNECTED>', 'weight') YIELD path, weight\n",
    "        RETURN [node in nodes(path) | node.name] AS nodes, weight\n",
    "        \"\"\"\n",
    "        result = tx.run(query, start_node = start_node, end_node = end_node)\n",
    "\n",
    "        end_time = time.time()  # End timing\n",
    "        elapsed_time = end_time - start_time  # Calculate elapsed time\n",
    "\n",
    "        return result.single(), elapsed_time\n",
    "    except Exception as e:\n",
    "        print(f\"Error during shortest path search: {e}\")\n",
    "\n",
    "        \n",
    "# Function to get random nodes\n",
    "def get_random_node(tx, file_path):\n",
    "    try:\n",
    "        query = \"MATCH (n:Node) RETURN n.name as node_name ORDER BY rand() LIMIT 1\"\n",
    "        result = tx.run(query, file_path = file_path)\n",
    "        return result.single()[\"node_name\"]\n",
    "    except Exception as e:\n",
    "        print(f\"Error getting random node: {e}\")"
   ]
  },
  {
   "cell_type": "markdown",
   "id": "71f0f780",
   "metadata": {},
   "source": [
    "### 100 random traversals  "
   ]
  },
  {
   "cell_type": "code",
   "execution_count": null,
   "id": "417572a4",
   "metadata": {},
   "outputs": [],
   "source": [
    "csv_file_path = file_path  \n",
    "\n",
    "# Perform 100 random traversals and calculate average time\n",
    "num_traversals = 100\n",
    "\n",
    "try:\n",
    "    with driver.session() as session:\n",
    "        # Import CSV data into the graph\n",
    "        session.execute_write(import_csv, csv_file_path)\n",
    "        \n",
    "        total_elapsed_time = 0    # Initialize time variable so as to add the time of each traversal to it\n",
    "\n",
    "        for _ in range(num_traversals):\n",
    "            start_node = get_random_node(session, csv_file_path)\n",
    "            print()\n",
    "            end_node = get_random_node(session, csv_file_path)\n",
    "\n",
    "            record, elapsed_time = session.execute_read(find_shortest_path, start_node, end_node)   # Main algorithm call\n",
    "\n",
    "            if record:\n",
    "                print(f\"Shortest path from {start_node} to {end_node}: {record['nodes']}, Weight: {record['weight']}\")\n",
    "                print(f\"Time elapsed: {elapsed_time:.4f} seconds\")\n",
    "                total_elapsed_time += elapsed_time\n",
    "            else:\n",
    "                print(f\"No path found from {start_node} to {end_node}\")\n",
    "\n",
    "    average_time = total_elapsed_time / num_traversals    # Average time of 100 traversals                               \n",
    "    print(f\"Average time for {num_traversals} traversals: {average_time:.4f} seconds\")\n",
    "\n",
    "except Exception as e:\n",
    "    print(f\"An error occurred in the main block: {e}\")\n",
    "\n",
    "finally:\n",
    "    driver.close()"
   ]
  }
 ],
 "metadata": {
  "kernelspec": {
   "display_name": "Python 3",
   "language": "python",
   "name": "python3"
  },
  "language_info": {
   "codemirror_mode": {
    "name": "ipython",
    "version": 3
   },
   "file_extension": ".py",
   "mimetype": "text/x-python",
   "name": "python",
   "nbconvert_exporter": "python",
   "pygments_lexer": "ipython3",
   "version": "3.8.8"
  }
 },
 "nbformat": 4,
 "nbformat_minor": 5
}
